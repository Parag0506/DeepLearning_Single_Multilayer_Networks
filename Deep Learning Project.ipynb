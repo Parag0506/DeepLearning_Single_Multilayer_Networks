{
 "cells": [
  {
   "cell_type": "code",
   "execution_count": 26,
   "metadata": {},
   "outputs": [],
   "source": [
    "import torch"
   ]
  },
  {
   "cell_type": "code",
   "execution_count": 27,
   "metadata": {},
   "outputs": [],
   "source": [
    "def activation(x):\n",
    "    \"\"\"Sigmoid Activation Function\n",
    "        Arguments\n",
    "       ------------\n",
    "       x: torch.tensor\n",
    "    \"\"\"\n",
    "    return 1/(1+torch.exp(-x))\n",
    "    "
   ]
  },
  {
   "cell_type": "code",
   "execution_count": 28,
   "metadata": {},
   "outputs": [],
   "source": [
    "##Generate some data\n",
    "torch.manual_seed(7) #setting the random seed so things are predictable\n",
    "\n",
    "#features are three random normal variables\n",
    "features=torch.randn((1,5))\n",
    "\n",
    "#True weights for our data, random normal variables again\n",
    "weights=torch.randn_like(features)\n",
    "\n",
    "#and a true Bias Term\n",
    "bias =torch.randn((1,1))"
   ]
  },
  {
   "cell_type": "code",
   "execution_count": 29,
   "metadata": {},
   "outputs": [
    {
     "name": "stdout",
     "output_type": "stream",
     "text": [
      "tensor([[0.1595]])\n"
     ]
    }
   ],
   "source": [
    "## Calculate the output of this network using the weights and bias tensors\n",
    "y=activation(torch.sum(features*weights)+bias)\n",
    "print(y)"
   ]
  },
  {
   "cell_type": "code",
   "execution_count": 30,
   "metadata": {},
   "outputs": [
    {
     "name": "stdout",
     "output_type": "stream",
     "text": [
      "tensor([[0.1595]])\n"
     ]
    }
   ],
   "source": [
    "## Calculate the output of this network using matrix multiplication\n",
    "y=activation(torch.mm(features,weights.view(5,1))+bias)\n",
    "print(y)"
   ]
  },
  {
   "cell_type": "markdown",
   "metadata": {},
   "source": [
    "# Multilayer Networks"
   ]
  },
  {
   "cell_type": "code",
   "execution_count": 31,
   "metadata": {},
   "outputs": [],
   "source": [
    "## Generate some data\n",
    "torch.manual_seed(7) #setting the random seed so things are predictable\n",
    "\n",
    "# Three random variables in features\n",
    "features=torch.randn((1,3))\n",
    "\n",
    "# Define the size of each layer in the network\n",
    "n_input=features.shape[1]\n",
    "n_hidden=2\n",
    "n_output=1\n",
    "\n",
    "# Weights for inputs to hidden layer\n",
    "W1=torch.randn(n_input,n_hidden)\n",
    "\n",
    "# Weights for hidden layer to output layer\n",
    "W2=torch.randn(n_hidden,n_output)\n",
    "\n",
    "# Bias terms for hidden and output layer\n",
    "\n",
    "B1=torch.randn(1,n_hidden)\n",
    "B2=torch.randn(1,n_output)\n"
   ]
  },
  {
   "cell_type": "code",
   "execution_count": 32,
   "metadata": {},
   "outputs": [
    {
     "data": {
      "text/plain": [
       "tensor([[0.3171]])"
      ]
     },
     "execution_count": 32,
     "metadata": {},
     "output_type": "execute_result"
    }
   ],
   "source": [
    "h = activation(torch.mm(features,W1)+B1)\n",
    "y = activation(torch.mm(h,W2)+B2)\n",
    "y"
   ]
  },
  {
   "cell_type": "code",
   "execution_count": null,
   "metadata": {},
   "outputs": [],
   "source": []
  }
 ],
 "metadata": {
  "kernelspec": {
   "display_name": "Python 3",
   "language": "python",
   "name": "python3"
  },
  "language_info": {
   "codemirror_mode": {
    "name": "ipython",
    "version": 3
   },
   "file_extension": ".py",
   "mimetype": "text/x-python",
   "name": "python",
   "nbconvert_exporter": "python",
   "pygments_lexer": "ipython3",
   "version": "3.7.1"
  }
 },
 "nbformat": 4,
 "nbformat_minor": 2
}
